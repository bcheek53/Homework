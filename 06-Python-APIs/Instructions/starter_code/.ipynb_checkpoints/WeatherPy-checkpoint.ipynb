{
 "cells": [
  {
   "cell_type": "markdown",
   "metadata": {},
   "source": [
    "# WeatherPy\n",
    "----\n",
    "\n",
    "#### Note\n",
    "* Instructions have been included for each segment. You do not have to follow them exactly, but they are included to help you think through the steps."
   ]
  },
  {
   "cell_type": "code",
   "execution_count": 1,
   "metadata": {
    "scrolled": true
   },
   "outputs": [],
   "source": [
    "# Dependencies and Setup\n",
    "import matplotlib.pyplot as plt\n",
    "import pandas as pd\n",
    "import numpy as np\n",
    "import requests\n",
    "import time\n",
    "import json\n",
    "from scipy.stats import linregress\n",
    "\n",
    "# Import API key\n",
    "from api_keys import weather_api_key\n",
    "\n",
    "# Incorporated citipy to determine city based on latitude and longitude\n",
    "from citipy import citipy\n",
    "\n",
    "# Output File (CSV)\n",
    "output_data_file = \"output_data/cities.csv\"\n",
    "\n",
    "# Range of latitudes and longitudes\n",
    "lat_range = (-90, 90)\n",
    "lng_range = (-180, 180)"
   ]
  },
  {
   "cell_type": "markdown",
   "metadata": {},
   "source": [
    "## Generate Cities List"
   ]
  },
  {
   "cell_type": "code",
   "execution_count": 2,
   "metadata": {},
   "outputs": [
    {
     "data": {
      "text/plain": [
       "616"
      ]
     },
     "execution_count": 2,
     "metadata": {},
     "output_type": "execute_result"
    }
   ],
   "source": [
    "# List for holding lat_lngs and cities\n",
    "lat_lngs = []\n",
    "cities = []\n",
    "\n",
    "# Create a set of random lat and lng combinations\n",
    "lats = np.random.uniform(low=-90.000, high=90.000, size=1500)\n",
    "lngs = np.random.uniform(low=-180.000, high=180.000, size=1500)\n",
    "lat_lngs = zip(lats, lngs)\n",
    "\n",
    "# Identify nearest city for each lat, lng combination\n",
    "for lat_lng in lat_lngs:\n",
    "    city = citipy.nearest_city(lat_lng[0], lat_lng[1]).city_name\n",
    "    \n",
    "    # If the city is unique, then add it to a our cities list\n",
    "    if city not in cities:\n",
    "        cities.append(city)\n",
    "\n",
    "# Print the city count to confirm sufficient count\n",
    "len(cities)"
   ]
  },
  {
   "cell_type": "markdown",
   "metadata": {},
   "source": [
    "### Perform API Calls\n",
    "* Perform a weather check on each city using a series of successive API calls.\n",
    "* Include a print log of each city as it'sbeing processed (with the city number and city name).\n"
   ]
  },
  {
   "cell_type": "code",
   "execution_count": 3,
   "metadata": {},
   "outputs": [
    {
     "name": "stdout",
     "output_type": "stream",
     "text": [
      "qaanaaq\n"
     ]
    }
   ],
   "source": [
    "#print city to see what it the list looks like.\n",
    "print(cities[0])"
   ]
  },
  {
   "cell_type": "code",
   "execution_count": 4,
   "metadata": {},
   "outputs": [
    {
     "name": "stdout",
     "output_type": "stream",
     "text": [
      "{\n",
      "    \"coord\": {\n",
      "        \"lon\": -69.36,\n",
      "        \"lat\": 77.48\n",
      "    },\n",
      "    \"weather\": [\n",
      "        {\n",
      "            \"id\": 804,\n",
      "            \"main\": \"Clouds\",\n",
      "            \"description\": \"overcast clouds\",\n",
      "            \"icon\": \"04n\"\n",
      "        }\n",
      "    ],\n",
      "    \"base\": \"stations\",\n",
      "    \"main\": {\n",
      "        \"temp\": 18.61,\n",
      "        \"pressure\": 1016.32,\n",
      "        \"humidity\": 76,\n",
      "        \"temp_min\": 18.61,\n",
      "        \"temp_max\": 18.61,\n",
      "        \"sea_level\": 1016.32,\n",
      "        \"grnd_level\": 977.04\n",
      "    },\n",
      "    \"wind\": {\n",
      "        \"speed\": 10.38,\n",
      "        \"deg\": 84.112\n",
      "    },\n",
      "    \"clouds\": {\n",
      "        \"all\": 95\n",
      "    },\n",
      "    \"dt\": 1569453939,\n",
      "    \"sys\": {\n",
      "        \"message\": 0.008,\n",
      "        \"country\": \"GL\",\n",
      "        \"sunrise\": 1569407312,\n",
      "        \"sunset\": 1569450590\n",
      "    },\n",
      "    \"timezone\": -10800,\n",
      "    \"id\": 3831208,\n",
      "    \"name\": \"Qaanaaq\",\n",
      "    \"cod\": 200\n",
      "}\n"
     ]
    }
   ],
   "source": [
    "# base url\n",
    "url = \"http://api.openweathermap.org/data/2.5/weather?\"\n",
    "units = \"imperial\"\n",
    "\n",
    "# Build partial query URL\n",
    "query_url = f\"{url}appid={weather_api_key}&units={units}&q=\"\n",
    "\n",
    "# run a request using our params dictionary\n",
    "response = requests.get(query_url + cities[0]).json()\n",
    "print(json.dumps(response, indent=4))"
   ]
  },
  {
   "cell_type": "code",
   "execution_count": 5,
   "metadata": {},
   "outputs": [
    {
     "name": "stdout",
     "output_type": "stream",
     "text": [
      "Processing Record 1 of Set 1 | qaanaaq\n",
      "Processing Record 2 of Set 1 | moerai\n",
      "Processing Record 3 of Set 1 | mataura\n",
      "Processing Record 4 of Set 1 | umm kaddadah\n",
      "City not found. Skipping...\n",
      "Processing Record 6 of Set 1 | avarua\n",
      "Processing Record 7 of Set 1 | jamestown\n",
      "Processing Record 8 of Set 1 | punta arenas\n",
      "Processing Record 9 of Set 1 | kapaa\n",
      "Processing Record 10 of Set 1 | ushuaia\n",
      "Processing Record 11 of Set 1 | viedma\n",
      "Processing Record 12 of Set 1 | butaritari\n",
      "Processing Record 13 of Set 1 | sibolga\n",
      "City not found. Skipping...\n",
      "Processing Record 15 of Set 1 | rosarito\n",
      "Processing Record 16 of Set 1 | new norfolk\n",
      "Processing Record 17 of Set 1 | albany\n",
      "Processing Record 18 of Set 1 | rabaul\n",
      "Processing Record 19 of Set 1 | tadine\n",
      "City not found. Skipping...\n",
      "Processing Record 21 of Set 1 | castro\n",
      "Processing Record 22 of Set 1 | palana\n",
      "Processing Record 23 of Set 1 | saint-philippe\n",
      "Processing Record 24 of Set 1 | kirakira\n",
      "Processing Record 25 of Set 1 | lebu\n",
      "City not found. Skipping...\n",
      "Processing Record 27 of Set 1 | east london\n",
      "Processing Record 28 of Set 1 | yellowknife\n",
      "Processing Record 29 of Set 1 | clyde river\n",
      "City not found. Skipping...\n",
      "Processing Record 31 of Set 1 | mandalgovi\n",
      "Processing Record 32 of Set 1 | port hedland\n",
      "Processing Record 33 of Set 1 | mar del plata\n",
      "City not found. Skipping...\n",
      "Processing Record 35 of Set 1 | avera\n",
      "Processing Record 36 of Set 1 | rikitea\n",
      "City not found. Skipping...\n",
      "Processing Record 38 of Set 1 | biskamzha\n",
      "Processing Record 39 of Set 1 | san patricio\n",
      "Processing Record 40 of Set 1 | ponta do sol\n",
      "Processing Record 41 of Set 1 | ancud\n",
      "Processing Record 42 of Set 1 | faanui\n",
      "Processing Record 43 of Set 1 | tuktoyaktuk\n",
      "City not found. Skipping...\n",
      "Processing Record 45 of Set 1 | micheweni\n",
      "Processing Record 46 of Set 1 | arlit\n",
      "Processing Record 47 of Set 1 | hithadhoo\n",
      "Processing Record 48 of Set 1 | puerto ayora\n",
      "Processing Record 49 of Set 1 | oytal\n",
      "Processing Record 50 of Set 1 | gizo\n",
      "City not found. Skipping...\n",
      "Processing Record 2 of Set 2 | genhe\n",
      "Processing Record 3 of Set 2 | cabo san lucas\n",
      "Processing Record 4 of Set 2 | tasiilaq\n",
      "Processing Record 5 of Set 2 | lakatoro\n",
      "Processing Record 6 of Set 2 | kaitangata\n",
      "Processing Record 7 of Set 2 | pevek\n",
      "Processing Record 8 of Set 2 | barrow\n",
      "Processing Record 9 of Set 2 | mazatlan\n",
      "Processing Record 10 of Set 2 | yenangyaung\n",
      "Processing Record 11 of Set 2 | mehamn\n",
      "Processing Record 12 of Set 2 | boda\n",
      "Processing Record 13 of Set 2 | virginia beach\n",
      "Processing Record 14 of Set 2 | panama city\n",
      "Processing Record 15 of Set 2 | kodiak\n",
      "City not found. Skipping...\n",
      "Processing Record 17 of Set 2 | atuntaqui\n",
      "Processing Record 18 of Set 2 | hobart\n",
      "Processing Record 19 of Set 2 | khatanga\n",
      "Processing Record 20 of Set 2 | korfovskiy\n",
      "Processing Record 21 of Set 2 | majene\n",
      "Processing Record 22 of Set 2 | laguna\n",
      "Processing Record 23 of Set 2 | saskylakh\n",
      "Processing Record 24 of Set 2 | busselton\n",
      "Processing Record 25 of Set 2 | iqaluit\n",
      "Processing Record 26 of Set 2 | port lincoln\n",
      "Processing Record 27 of Set 2 | fulton\n",
      "City not found. Skipping...\n",
      "Processing Record 29 of Set 2 | alofi\n",
      "Processing Record 30 of Set 2 | codrington\n",
      "Processing Record 31 of Set 2 | sao filipe\n",
      "Processing Record 32 of Set 2 | atuona\n",
      "Processing Record 33 of Set 2 | dikson\n",
      "Processing Record 34 of Set 2 | port alfred\n",
      "Processing Record 35 of Set 2 | mildura\n",
      "Processing Record 36 of Set 2 | acapulco\n",
      "City not found. Skipping...\n",
      "City not found. Skipping...\n",
      "Processing Record 39 of Set 2 | cape town\n",
      "Processing Record 40 of Set 2 | longyearbyen\n",
      "Processing Record 41 of Set 2 | hualmay\n",
      "Processing Record 42 of Set 2 | eyl\n",
      "Processing Record 43 of Set 2 | gat\n",
      "Processing Record 44 of Set 2 | mount gambier\n",
      "Processing Record 45 of Set 2 | mvomero\n",
      "Processing Record 46 of Set 2 | artvin\n",
      "Processing Record 47 of Set 2 | hermanus\n",
      "Processing Record 48 of Set 2 | thompson\n",
      "Processing Record 49 of Set 2 | chokurdakh\n",
      "Processing Record 50 of Set 2 | fortuna\n",
      "Processing Record 1 of Set 3 | la rioja\n",
      "Processing Record 2 of Set 3 | kharp\n",
      "Processing Record 3 of Set 3 | peniche\n",
      "Processing Record 4 of Set 3 | havre-saint-pierre\n",
      "Processing Record 5 of Set 3 | lorengau\n",
      "Processing Record 6 of Set 3 | abalak\n",
      "Processing Record 7 of Set 3 | bathsheba\n",
      "Processing Record 8 of Set 3 | sri aman\n",
      "Processing Record 9 of Set 3 | arraial do cabo\n",
      "Processing Record 10 of Set 3 | mbanza-ngungu\n",
      "Processing Record 11 of Set 3 | tchaourou\n",
      "Processing Record 12 of Set 3 | bethel\n",
      "Processing Record 13 of Set 3 | ucluelet\n",
      "Processing Record 14 of Set 3 | harper\n",
      "Processing Record 15 of Set 3 | vaini\n",
      "Processing Record 16 of Set 3 | tiznit\n",
      "Processing Record 17 of Set 3 | huarmey\n",
      "Processing Record 18 of Set 3 | sur\n",
      "Processing Record 19 of Set 3 | circleville\n",
      "Processing Record 20 of Set 3 | araouane\n",
      "City not found. Skipping...\n",
      "Processing Record 22 of Set 3 | bluff\n",
      "Processing Record 23 of Set 3 | cabedelo\n",
      "Processing Record 24 of Set 3 | beringovskiy\n",
      "Processing Record 25 of Set 3 | bredasdorp\n",
      "Processing Record 26 of Set 3 | chumikan\n",
      "Processing Record 27 of Set 3 | constitucion\n",
      "Processing Record 28 of Set 3 | byron bay\n",
      "Processing Record 29 of Set 3 | ilulissat\n",
      "Processing Record 30 of Set 3 | gambela\n",
      "Processing Record 31 of Set 3 | champerico\n",
      "Processing Record 32 of Set 3 | gushikawa\n",
      "City not found. Skipping...\n",
      "Processing Record 34 of Set 3 | carnarvon\n",
      "Processing Record 35 of Set 3 | shakhovskaya\n",
      "Processing Record 36 of Set 3 | pitogo\n",
      "Processing Record 37 of Set 3 | varhaug\n",
      "Processing Record 38 of Set 3 | uray\n",
      "Processing Record 39 of Set 3 | linxia\n",
      "Processing Record 40 of Set 3 | taoudenni\n",
      "City not found. Skipping...\n",
      "Processing Record 42 of Set 3 | camacupa\n",
      "Processing Record 43 of Set 3 | yakima\n",
      "Processing Record 44 of Set 3 | vao\n",
      "Processing Record 45 of Set 3 | isiro\n",
      "Processing Record 46 of Set 3 | isangel\n",
      "Processing Record 47 of Set 3 | monrovia\n",
      "Processing Record 48 of Set 3 | leh\n",
      "Processing Record 49 of Set 3 | samarai\n",
      "Processing Record 50 of Set 3 | batavia\n",
      "Processing Record 1 of Set 4 | noyabrsk\n",
      "Processing Record 2 of Set 4 | luderitz\n",
      "Processing Record 3 of Set 4 | pisco\n",
      "Processing Record 4 of Set 4 | nemuro\n",
      "Processing Record 5 of Set 4 | chiautla\n",
      "Processing Record 6 of Set 4 | namibe\n",
      "Processing Record 7 of Set 4 | severo-kurilsk\n",
      "Processing Record 8 of Set 4 | antofagasta\n",
      "Processing Record 9 of Set 4 | upernavik\n",
      "Processing Record 10 of Set 4 | jiayuguan\n",
      "Processing Record 11 of Set 4 | guerrero negro\n",
      "Processing Record 12 of Set 4 | novyye lyady\n",
      "Processing Record 13 of Set 4 | jining\n",
      "City not found. Skipping...\n",
      "Processing Record 15 of Set 4 | evans\n",
      "Processing Record 16 of Set 4 | norman wells\n",
      "Processing Record 17 of Set 4 | itaituba\n",
      "City not found. Skipping...\n",
      "City not found. Skipping...\n",
      "Processing Record 20 of Set 4 | lavrentiya\n",
      "Processing Record 21 of Set 4 | san quintin\n",
      "Processing Record 22 of Set 4 | ribeira grande\n",
      "Processing Record 23 of Set 4 | marzuq\n",
      "City not found. Skipping...\n",
      "City not found. Skipping...\n",
      "Processing Record 26 of Set 4 | gambo\n",
      "Processing Record 27 of Set 4 | kushima\n",
      "Processing Record 28 of Set 4 | kaeo\n",
      "Processing Record 29 of Set 4 | smolenka\n",
      "Processing Record 30 of Set 4 | quchan\n",
      "City not found. Skipping...\n",
      "City not found. Skipping...\n",
      "Processing Record 33 of Set 4 | kloulklubed\n",
      "City not found. Skipping...\n",
      "Processing Record 35 of Set 4 | emerald\n",
      "Processing Record 36 of Set 4 | grants\n",
      "Processing Record 37 of Set 4 | nanortalik\n",
      "City not found. Skipping...\n",
      "Processing Record 39 of Set 4 | caravelas\n",
      "Processing Record 40 of Set 4 | ballina\n",
      "City not found. Skipping...\n",
      "Processing Record 42 of Set 4 | hilo\n",
      "Processing Record 43 of Set 4 | minsk mazowiecki\n",
      "Processing Record 44 of Set 4 | kaliua\n",
      "Processing Record 45 of Set 4 | shakawe\n",
      "Processing Record 46 of Set 4 | yumen\n",
      "Processing Record 47 of Set 4 | dingle\n",
      "Processing Record 48 of Set 4 | naze\n",
      "Processing Record 49 of Set 4 | nosy varika\n",
      "Processing Record 50 of Set 4 | bereda\n",
      "Processing Record 1 of Set 5 | richards bay\n",
      "Processing Record 2 of Set 5 | puerto ayacucho\n",
      "Processing Record 3 of Set 5 | fairbanks\n",
      "Processing Record 4 of Set 5 | burnie\n",
      "Processing Record 5 of Set 5 | vila franca do campo\n",
      "City not found. Skipping...\n",
      "City not found. Skipping...\n",
      "Processing Record 8 of Set 5 | port hardy\n",
      "Processing Record 9 of Set 5 | provideniya\n"
     ]
    },
    {
     "name": "stdout",
     "output_type": "stream",
     "text": [
      "Processing Record 10 of Set 5 | georgetown\n",
      "Processing Record 11 of Set 5 | goure\n",
      "Processing Record 12 of Set 5 | coihaique\n",
      "Processing Record 13 of Set 5 | beloha\n",
      "Processing Record 14 of Set 5 | airai\n",
      "Processing Record 15 of Set 5 | novolabinskaya\n",
      "Processing Record 16 of Set 5 | kangaatsiaq\n",
      "Processing Record 17 of Set 5 | puerto quijarro\n",
      "Processing Record 18 of Set 5 | manali\n",
      "Processing Record 19 of Set 5 | necochea\n",
      "Processing Record 20 of Set 5 | puerto leguizamo\n",
      "City not found. Skipping...\n",
      "Processing Record 22 of Set 5 | havelock\n",
      "Processing Record 23 of Set 5 | kozachi laheri\n",
      "Processing Record 24 of Set 5 | usinsk\n",
      "Processing Record 25 of Set 5 | taltal\n",
      "Processing Record 26 of Set 5 | abu dhabi\n",
      "Processing Record 27 of Set 5 | kutum\n",
      "City not found. Skipping...\n",
      "Processing Record 29 of Set 5 | sayansk\n",
      "Processing Record 30 of Set 5 | brae\n",
      "Processing Record 31 of Set 5 | nacogdoches\n",
      "Processing Record 32 of Set 5 | esperance\n",
      "Processing Record 33 of Set 5 | tiksi\n",
      "Processing Record 34 of Set 5 | chuy\n",
      "Processing Record 35 of Set 5 | erenhot\n",
      "Processing Record 36 of Set 5 | shahr-e babak\n",
      "Processing Record 37 of Set 5 | pandan\n",
      "Processing Record 38 of Set 5 | yulara\n",
      "Processing Record 39 of Set 5 | bagdarin\n",
      "Processing Record 40 of Set 5 | sayyan\n",
      "Processing Record 41 of Set 5 | sinnamary\n",
      "City not found. Skipping...\n",
      "Processing Record 43 of Set 5 | vila velha\n",
      "Processing Record 44 of Set 5 | mandurah\n",
      "Processing Record 45 of Set 5 | hasaki\n",
      "Processing Record 46 of Set 5 | victoria\n",
      "Processing Record 47 of Set 5 | tuatapere\n",
      "Processing Record 48 of Set 5 | slave lake\n",
      "Processing Record 49 of Set 5 | abha\n",
      "Processing Record 50 of Set 5 | machico\n",
      "Processing Record 1 of Set 6 | grand falls\n",
      "Processing Record 2 of Set 6 | fayaoue\n",
      "Processing Record 3 of Set 6 | muros\n",
      "Processing Record 4 of Set 6 | rawlins\n",
      "Processing Record 5 of Set 6 | tambovka\n",
      "Processing Record 6 of Set 6 | puerto madryn\n",
      "Processing Record 7 of Set 6 | kavieng\n",
      "Processing Record 8 of Set 6 | oban\n",
      "Processing Record 9 of Set 6 | acajutla\n",
      "Processing Record 10 of Set 6 | pilar\n",
      "Processing Record 11 of Set 6 | swan river\n",
      "City not found. Skipping...\n",
      "Processing Record 13 of Set 6 | labuhan\n",
      "Processing Record 14 of Set 6 | luanda\n",
      "Processing Record 15 of Set 6 | mareeba\n",
      "Processing Record 16 of Set 6 | iacu\n",
      "Processing Record 17 of Set 6 | bikaner\n",
      "Processing Record 18 of Set 6 | camopi\n",
      "Processing Record 19 of Set 6 | fallon\n",
      "Processing Record 20 of Set 6 | tyumen\n",
      "Processing Record 21 of Set 6 | vostok\n",
      "Processing Record 22 of Set 6 | nikolskoye\n",
      "Processing Record 23 of Set 6 | shingu\n",
      "City not found. Skipping...\n",
      "Processing Record 25 of Set 6 | davila\n",
      "Processing Record 26 of Set 6 | paris\n",
      "Processing Record 27 of Set 6 | saint-louis\n",
      "Processing Record 28 of Set 6 | ambulu\n",
      "Processing Record 29 of Set 6 | shuangyang\n",
      "Processing Record 30 of Set 6 | oshikango\n",
      "Processing Record 31 of Set 6 | kampong thum\n",
      "Processing Record 32 of Set 6 | hirara\n",
      "Processing Record 33 of Set 6 | bereznik\n",
      "Processing Record 34 of Set 6 | eureka\n",
      "Processing Record 35 of Set 6 | nyanza\n",
      "Processing Record 36 of Set 6 | karratha\n",
      "Processing Record 37 of Set 6 | farafangana\n",
      "Processing Record 38 of Set 6 | abu samrah\n",
      "City not found. Skipping...\n",
      "Processing Record 40 of Set 6 | cody\n",
      "Processing Record 41 of Set 6 | la carolina\n",
      "Processing Record 42 of Set 6 | isla vista\n",
      "Processing Record 43 of Set 6 | nizhniy ingash\n",
      "Processing Record 44 of Set 6 | salalah\n",
      "Processing Record 45 of Set 6 | santa ines\n",
      "Processing Record 46 of Set 6 | bodden town\n",
      "Processing Record 47 of Set 6 | trairi\n",
      "Processing Record 48 of Set 6 | corbu\n",
      "Processing Record 49 of Set 6 | sorong\n",
      "City not found. Skipping...\n",
      "City not found. Skipping...\n",
      "Processing Record 2 of Set 7 | lompoc\n",
      "Processing Record 3 of Set 7 | san cristobal\n",
      "Processing Record 4 of Set 7 | mushie\n",
      "Processing Record 5 of Set 7 | kokopo\n",
      "Processing Record 6 of Set 7 | santiago de cao\n",
      "Processing Record 7 of Set 7 | stokmarknes\n",
      "Processing Record 8 of Set 7 | walvis bay\n",
      "Processing Record 9 of Set 7 | mantua\n",
      "Processing Record 10 of Set 7 | sitka\n",
      "City not found. Skipping...\n",
      "Processing Record 12 of Set 7 | lerwick\n",
      "Processing Record 13 of Set 7 | beyneu\n",
      "Processing Record 14 of Set 7 | saint george\n",
      "Processing Record 15 of Set 7 | mahebourg\n",
      "Processing Record 16 of Set 7 | waitara\n",
      "City not found. Skipping...\n",
      "Processing Record 18 of Set 7 | san ignacio\n",
      "Processing Record 19 of Set 7 | dashitou\n",
      "Processing Record 20 of Set 7 | morro bay\n",
      "Processing Record 21 of Set 7 | boende\n",
      "Processing Record 22 of Set 7 | saryg-sep\n",
      "Processing Record 23 of Set 7 | bilibino\n",
      "Processing Record 24 of Set 7 | cockburn town\n",
      "Processing Record 25 of Set 7 | battle creek\n",
      "Processing Record 26 of Set 7 | rio gallegos\n",
      "Processing Record 27 of Set 7 | adrar\n",
      "Processing Record 28 of Set 7 | long beach\n",
      "Processing Record 29 of Set 7 | pacific grove\n",
      "City not found. Skipping...\n",
      "Processing Record 31 of Set 7 | touros\n",
      "Processing Record 32 of Set 7 | saint-denis\n",
      "Processing Record 33 of Set 7 | gravdal\n",
      "Processing Record 34 of Set 7 | kaseda\n",
      "Processing Record 35 of Set 7 | mubi\n",
      "Processing Record 36 of Set 7 | souillac\n",
      "Processing Record 37 of Set 7 | olinda\n",
      "Processing Record 38 of Set 7 | husavik\n",
      "Processing Record 39 of Set 7 | imbituba\n",
      "City not found. Skipping...\n",
      "Processing Record 41 of Set 7 | katobu\n",
      "Processing Record 42 of Set 7 | kuminskiy\n",
      "Processing Record 43 of Set 7 | lalsk\n",
      "Processing Record 44 of Set 7 | china\n",
      "Processing Record 45 of Set 7 | nouadhibou\n",
      "Processing Record 46 of Set 7 | brumadinho\n",
      "Processing Record 47 of Set 7 | puerto escondido\n",
      "City not found. Skipping...\n",
      "Processing Record 49 of Set 7 | tessalit\n",
      "Processing Record 50 of Set 7 | coquimbo\n",
      "Processing Record 1 of Set 8 | ilhabela\n",
      "Processing Record 2 of Set 8 | buchmany\n",
      "Processing Record 3 of Set 8 | chernyakhiv\n",
      "Processing Record 4 of Set 8 | nabire\n",
      "Processing Record 5 of Set 8 | port blair\n",
      "Processing Record 6 of Set 8 | aransas pass\n",
      "Processing Record 7 of Set 8 | kruisfontein\n",
      "Processing Record 8 of Set 8 | cherskiy\n",
      "Processing Record 9 of Set 8 | nishihara\n",
      "Processing Record 10 of Set 8 | dalby\n",
      "Processing Record 11 of Set 8 | dryden\n",
      "Processing Record 12 of Set 8 | portland\n",
      "Processing Record 13 of Set 8 | ternate\n",
      "Processing Record 14 of Set 8 | coruripe\n",
      "Processing Record 15 of Set 8 | dudinka\n",
      "Processing Record 16 of Set 8 | bambous virieux\n",
      "Processing Record 17 of Set 8 | college\n",
      "Processing Record 18 of Set 8 | zhezkazgan\n",
      "Processing Record 19 of Set 8 | fare\n",
      "Processing Record 20 of Set 8 | san matias\n",
      "Processing Record 21 of Set 8 | manor\n",
      "City not found. Skipping...\n",
      "Processing Record 23 of Set 8 | nouakchott\n",
      "Processing Record 24 of Set 8 | nizhneudinsk\n",
      "Processing Record 25 of Set 8 | chingirlau\n",
      "Processing Record 26 of Set 8 | ekhabi\n",
      "Processing Record 27 of Set 8 | basco\n",
      "Processing Record 28 of Set 8 | palmer\n",
      "Processing Record 29 of Set 8 | quatre cocos\n",
      "Processing Record 30 of Set 8 | kurchum\n",
      "Processing Record 31 of Set 8 | sorland\n",
      "Processing Record 32 of Set 8 | kovdor\n",
      "Processing Record 33 of Set 8 | atar\n",
      "Processing Record 34 of Set 8 | port antonio\n",
      "Processing Record 35 of Set 8 | namatanai\n",
      "Processing Record 36 of Set 8 | moindou\n",
      "Processing Record 37 of Set 8 | maumere\n",
      "Processing Record 38 of Set 8 | sibi\n",
      "Processing Record 39 of Set 8 | jingdezhen\n",
      "Processing Record 40 of Set 8 | los llanos de aridane\n",
      "Processing Record 41 of Set 8 | melita\n",
      "Processing Record 42 of Set 8 | umm lajj\n",
      "Processing Record 43 of Set 8 | port-gentil\n",
      "Processing Record 44 of Set 8 | jabinyanah\n",
      "Processing Record 45 of Set 8 | kishi\n",
      "Processing Record 46 of Set 8 | paptalaya\n",
      "Processing Record 47 of Set 8 | mecca\n",
      "Processing Record 48 of Set 8 | moses lake\n",
      "Processing Record 49 of Set 8 | sovetskiy\n",
      "Processing Record 50 of Set 8 | vila do maio\n",
      "Processing Record 1 of Set 9 | ocote paulino\n",
      "Processing Record 2 of Set 9 | deputatskiy\n",
      "Processing Record 3 of Set 9 | meitingen\n",
      "Processing Record 4 of Set 9 | jaru\n",
      "City not found. Skipping...\n",
      "Processing Record 6 of Set 9 | maple creek\n",
      "Processing Record 7 of Set 9 | yuanping\n",
      "Processing Record 8 of Set 9 | itarema\n",
      "Processing Record 9 of Set 9 | obidos\n",
      "Processing Record 10 of Set 9 | belem de sao francisco\n",
      "Processing Record 11 of Set 9 | andilamena\n",
      "Processing Record 12 of Set 9 | la paz\n",
      "Processing Record 13 of Set 9 | shitanjing\n"
     ]
    },
    {
     "name": "stdout",
     "output_type": "stream",
     "text": [
      "Processing Record 14 of Set 9 | sirpur\n",
      "Processing Record 15 of Set 9 | salinopolis\n",
      "Processing Record 16 of Set 9 | port-de-bouc\n",
      "Processing Record 17 of Set 9 | waiouru\n",
      "Processing Record 18 of Set 9 | sobolevo\n",
      "Processing Record 19 of Set 9 | didsbury\n",
      "Processing Record 20 of Set 9 | medea\n",
      "Processing Record 21 of Set 9 | torbay\n",
      "Processing Record 22 of Set 9 | vardo\n",
      "Processing Record 23 of Set 9 | zyryanka\n",
      "Processing Record 24 of Set 9 | hamilton\n",
      "City not found. Skipping...\n",
      "Processing Record 26 of Set 9 | aklavik\n",
      "Processing Record 27 of Set 9 | konya\n",
      "Processing Record 28 of Set 9 | okhotsk\n",
      "Processing Record 29 of Set 9 | balakliya\n",
      "Processing Record 30 of Set 9 | hobyo\n",
      "Processing Record 31 of Set 9 | belaya gora\n",
      "Processing Record 32 of Set 9 | male\n",
      "City not found. Skipping...\n",
      "Processing Record 34 of Set 9 | yuzhno-kurilsk\n",
      "Processing Record 35 of Set 9 | pionerskiy\n",
      "Processing Record 36 of Set 9 | birao\n",
      "Processing Record 37 of Set 9 | ahipara\n",
      "Processing Record 38 of Set 9 | priupskiy\n",
      "Processing Record 39 of Set 9 | praxedis guerrero\n",
      "Processing Record 40 of Set 9 | poso\n",
      "Processing Record 41 of Set 9 | fort-shevchenko\n",
      "Processing Record 42 of Set 9 | evensk\n",
      "City not found. Skipping...\n",
      "Processing Record 44 of Set 9 | buraydah\n",
      "Processing Record 45 of Set 9 | maldonado\n",
      "Processing Record 46 of Set 9 | narsaq\n",
      "Processing Record 47 of Set 9 | vanimo\n",
      "Processing Record 48 of Set 9 | katsuura\n",
      "City not found. Skipping...\n",
      "Processing Record 50 of Set 9 | chicama\n",
      "Processing Record 1 of Set 10 | shenjiamen\n",
      "Processing Record 2 of Set 10 | manoel urbano\n",
      "Processing Record 3 of Set 10 | roald\n",
      "Processing Record 4 of Set 10 | sao jose da coroa grande\n",
      "Processing Record 5 of Set 10 | banda aceh\n",
      "Processing Record 6 of Set 10 | rtishchevo\n",
      "Processing Record 7 of Set 10 | lichinga\n",
      "Processing Record 8 of Set 10 | ostrovnoy\n",
      "Processing Record 9 of Set 10 | turtas\n",
      "Processing Record 10 of Set 10 | lucapa\n",
      "Processing Record 11 of Set 10 | luwuk\n",
      "Processing Record 12 of Set 10 | puntarenas\n",
      "Processing Record 13 of Set 10 | tres arroyos\n",
      "Processing Record 14 of Set 10 | ormara\n",
      "Processing Record 15 of Set 10 | cayenne\n",
      "Processing Record 16 of Set 10 | port hawkesbury\n",
      "Processing Record 17 of Set 10 | marstal\n",
      "Processing Record 18 of Set 10 | hambantota\n",
      "Processing Record 19 of Set 10 | guayaramerin\n",
      "City not found. Skipping...\n",
      "Processing Record 21 of Set 10 | paamiut\n",
      "Processing Record 22 of Set 10 | yar-sale\n",
      "Processing Record 23 of Set 10 | rocha\n",
      "Processing Record 24 of Set 10 | mitsamiouli\n",
      "Processing Record 25 of Set 10 | upington\n",
      "Processing Record 26 of Set 10 | raduzhnyy\n",
      "City not found. Skipping...\n",
      "Processing Record 28 of Set 10 | caninde de sao francisco\n",
      "Processing Record 29 of Set 10 | port macquarie\n",
      "Processing Record 30 of Set 10 | klichka\n",
      "Processing Record 31 of Set 10 | padang\n",
      "Processing Record 32 of Set 10 | ulladulla\n",
      "Processing Record 33 of Set 10 | cidreira\n",
      "Processing Record 34 of Set 10 | imeni morozova\n",
      "Processing Record 35 of Set 10 | safford\n",
      "City not found. Skipping...\n",
      "Processing Record 37 of Set 10 | plattsburgh\n",
      "Processing Record 38 of Set 10 | nueve de julio\n",
      "Processing Record 39 of Set 10 | coahuayana\n",
      "Processing Record 40 of Set 10 | baykit\n",
      "Processing Record 41 of Set 10 | berdigestyakh\n",
      "City not found. Skipping...\n",
      "Processing Record 43 of Set 10 | tinskoy\n",
      "Processing Record 44 of Set 10 | chinsali\n",
      "Processing Record 45 of Set 10 | prachuap khiri khan\n",
      "Processing Record 46 of Set 10 | nadym\n",
      "Processing Record 47 of Set 10 | soria\n",
      "Processing Record 48 of Set 10 | omboue\n",
      "Processing Record 49 of Set 10 | mae tha\n",
      "Processing Record 50 of Set 10 | phalaborwa\n",
      "Processing Record 1 of Set 11 | liepaja\n",
      "Processing Record 2 of Set 11 | constantine\n",
      "Processing Record 3 of Set 11 | flinders\n",
      "Processing Record 4 of Set 11 | nome\n",
      "Processing Record 5 of Set 11 | geraldton\n",
      "Processing Record 6 of Set 11 | cumberland\n",
      "Processing Record 7 of Set 11 | leningradskiy\n",
      "Processing Record 8 of Set 11 | san clemente\n",
      "Processing Record 9 of Set 11 | chippewa falls\n",
      "Processing Record 10 of Set 11 | klaksvik\n",
      "Processing Record 11 of Set 11 | novokuznetsk\n",
      "Processing Record 12 of Set 11 | ozernovskiy\n",
      "Processing Record 13 of Set 11 | tigil\n",
      "Processing Record 14 of Set 11 | tura\n",
      "Processing Record 15 of Set 11 | lagoa\n",
      "Processing Record 16 of Set 11 | kerchevskiy\n",
      "Processing Record 17 of Set 11 | utiel\n",
      "Processing Record 18 of Set 11 | abnub\n",
      "Processing Record 19 of Set 11 | trencin\n",
      "Processing Record 20 of Set 11 | nurota\n",
      "Processing Record 21 of Set 11 | bin qirdan\n",
      "Processing Record 22 of Set 11 | teahupoo\n",
      "Processing Record 23 of Set 11 | talakan\n",
      "Processing Record 24 of Set 11 | surt\n",
      "City not found. Skipping...\n",
      "Processing Record 26 of Set 11 | seoul\n",
      "Processing Record 27 of Set 11 | udachnyy\n",
      "Processing Record 28 of Set 11 | strathmore\n",
      "Processing Record 29 of Set 11 | hay river\n",
      "Processing Record 30 of Set 11 | saint-pierre\n",
      "Processing Record 31 of Set 11 | weihai\n",
      "Processing Record 32 of Set 11 | maicao\n",
      "Processing Record 33 of Set 11 | komsomolskiy\n",
      "Processing Record 34 of Set 11 | farah\n",
      "Processing Record 35 of Set 11 | zhigansk\n",
      "Processing Record 36 of Set 11 | quang ngai\n",
      "Processing Record 37 of Set 11 | cesme\n",
      "Processing Record 38 of Set 11 | skibotn\n",
      "City not found. Skipping...\n",
      "Processing Record 40 of Set 11 | broome\n",
      "Processing Record 41 of Set 11 | oussouye\n",
      "Processing Record 42 of Set 11 | limenaria\n",
      "Processing Record 43 of Set 11 | inhambane\n",
      "Processing Record 44 of Set 11 | kinkala\n",
      "Processing Record 45 of Set 11 | ewa beach\n",
      "Processing Record 46 of Set 11 | naples\n",
      "Processing Record 47 of Set 11 | soe\n",
      "Processing Record 48 of Set 11 | kavaratti\n",
      "Processing Record 49 of Set 11 | la palma\n",
      "Processing Record 50 of Set 11 | znamenskoye\n",
      "Processing Record 1 of Set 12 | beaverlodge\n",
      "Processing Record 2 of Set 12 | kjollefjord\n",
      "Processing Record 3 of Set 12 | buarcos\n",
      "Processing Record 4 of Set 12 | chulym\n",
      "Processing Record 5 of Set 12 | salinas\n",
      "Processing Record 6 of Set 12 | port elizabeth\n",
      "Processing Record 7 of Set 12 | hami\n",
      "Processing Record 8 of Set 12 | skibbereen\n",
      "City not found. Skipping...\n",
      "Processing Record 10 of Set 12 | darhan\n",
      "Processing Record 11 of Set 12 | tosya\n",
      "Processing Record 12 of Set 12 | ngara\n",
      "Processing Record 13 of Set 12 | warrington\n",
      "Processing Record 14 of Set 12 | conceicao do araguaia\n",
      "Processing Record 15 of Set 12 | ishigaki\n",
      "Processing Record 16 of Set 12 | pulandian\n",
      "Processing Record 17 of Set 12 | aksay\n",
      "Processing Record 18 of Set 12 | panorama\n",
      "Processing Record 19 of Set 12 | concepcion del oro\n",
      "Processing Record 20 of Set 12 | saint anthony\n",
      "Processing Record 21 of Set 12 | ukiah\n",
      "Processing Record 22 of Set 12 | basqal\n",
      "Processing Record 23 of Set 12 | mount darwin\n",
      "Processing Record 24 of Set 12 | jiuquan\n",
      "Processing Record 25 of Set 12 | chipinge\n",
      "City not found. Skipping...\n",
      "Processing Record 27 of Set 12 | skelleftea\n",
      "Processing Record 28 of Set 12 | chapais\n",
      "Processing Record 29 of Set 12 | wairoa\n",
      "Processing Record 30 of Set 12 | kholodnyy\n",
      "Processing Record 31 of Set 12 | marathon\n",
      "City not found. Skipping...\n",
      "Processing Record 33 of Set 12 | half moon bay\n",
      "Processing Record 34 of Set 12 | nyurba\n",
      "Processing Record 35 of Set 12 | chalakudi\n",
      "Processing Record 36 of Set 12 | ust-nera\n",
      "Processing Record 37 of Set 12 | broken hill\n",
      "Processing Record 38 of Set 12 | gien\n",
      "Processing Record 39 of Set 12 | te anau\n",
      "Processing Record 40 of Set 12 | qaqortoq\n",
      "City not found. Skipping...\n",
      "Processing Record 42 of Set 12 | talnakh\n",
      "Processing Record 43 of Set 12 | batticaloa\n",
      "Processing Record 44 of Set 12 | aasiaat\n",
      "Processing Record 45 of Set 12 | itoman\n",
      "Processing Record 46 of Set 12 | ambilobe\n",
      "Processing Record 47 of Set 12 | sherbakul\n",
      "Processing Record 48 of Set 12 | vestmannaeyjar\n",
      "Processing Record 49 of Set 12 | tyup\n",
      "Processing Record 50 of Set 12 | poum\n",
      "Processing Record 1 of Set 13 | santa lucia\n",
      "Processing Record 2 of Set 13 | key west\n",
      "Processing Record 3 of Set 13 | sioux lookout\n",
      "Processing Record 4 of Set 13 | hofn\n",
      "City not found. Skipping...\n",
      "Processing Record 6 of Set 13 | ankazoabo\n",
      "Processing Record 7 of Set 13 | catuday\n",
      "Processing Record 8 of Set 13 | ajdabiya\n",
      "Processing Record 9 of Set 13 | baruun-urt\n",
      "Processing Record 10 of Set 13 | harda\n",
      "Processing Record 11 of Set 13 | kysyl-syr\n",
      "Processing Record 12 of Set 13 | saldanha\n",
      "Processing Record 13 of Set 13 | sulangan\n"
     ]
    },
    {
     "name": "stdout",
     "output_type": "stream",
     "text": [
      "Processing Record 14 of Set 13 | silopi\n",
      "Processing Record 15 of Set 13 | nizhniy kuranakh\n",
      "Processing Record 16 of Set 13 | linares\n"
     ]
    }
   ],
   "source": [
    "# set up lists to hold reponse info\n",
    "cityweather = []\n",
    "lat = []\n",
    "lng = []\n",
    "temp = []\n",
    "cloudiness = []\n",
    "country = []\n",
    "date = []\n",
    "humidity = []\n",
    "maxtemp = []\n",
    "windspeed =  []\n",
    "\n",
    "\n",
    "# Loop through the list of cities and perform a request for data on each\n",
    "count = 0\n",
    "set_count = 1\n",
    "\n",
    "for city in cities:\n",
    "    response = requests.get(query_url + city).json()    \n",
    "    count += 1\n",
    "    try:\n",
    "        lat.append(response['coord']['lat'])\n",
    "        lng.append(response['coord']['lon'])\n",
    "        temp.append(response['main']['temp_max'])\n",
    "        cloudiness.append(response['clouds']['all'])\n",
    "        country.append(response['sys']['country'])\n",
    "        date.append(response['dt'])\n",
    "        humidity.append(response['main']['humidity'])\n",
    "        maxtemp.append(response['main']['temp_max'])\n",
    "        windspeed.append(response['wind']['speed'])\n",
    "        cityweather.append(city)\n",
    "        print(f\"Processing Record {count} of Set {set_count} | {city}\")\n",
    "    except KeyError:\n",
    "        print(\"City not found. Skipping...\")\n",
    "\n",
    "#Count every 50 as a set\n",
    "    if count == 50:\n",
    "        count = 0\n",
    "        set_count += 1\n",
    "    time.sleep(.1)"
   ]
  },
  {
   "cell_type": "markdown",
   "metadata": {},
   "source": [
    "### Convert Raw Data to DataFrame\n",
    "* Export the city data into a .csv.\n",
    "* Display the DataFrame"
   ]
  },
  {
   "cell_type": "code",
   "execution_count": 6,
   "metadata": {},
   "outputs": [
    {
     "data": {
      "text/html": [
       "<div>\n",
       "<style scoped>\n",
       "    .dataframe tbody tr th:only-of-type {\n",
       "        vertical-align: middle;\n",
       "    }\n",
       "\n",
       "    .dataframe tbody tr th {\n",
       "        vertical-align: top;\n",
       "    }\n",
       "\n",
       "    .dataframe thead th {\n",
       "        text-align: right;\n",
       "    }\n",
       "</style>\n",
       "<table border=\"1\" class=\"dataframe\">\n",
       "  <thead>\n",
       "    <tr style=\"text-align: right;\">\n",
       "      <th></th>\n",
       "      <th>City</th>\n",
       "      <th>Cloudiness</th>\n",
       "      <th>Country</th>\n",
       "      <th>Date</th>\n",
       "      <th>Humidity</th>\n",
       "      <th>Lat</th>\n",
       "      <th>Lng</th>\n",
       "      <th>Max Temp</th>\n",
       "      <th>Wind Speed</th>\n",
       "    </tr>\n",
       "  </thead>\n",
       "  <tbody>\n",
       "    <tr>\n",
       "      <th>0</th>\n",
       "      <td>qaanaaq</td>\n",
       "      <td>95</td>\n",
       "      <td>GL</td>\n",
       "      <td>1569453939</td>\n",
       "      <td>76</td>\n",
       "      <td>77.48</td>\n",
       "      <td>-69.36</td>\n",
       "      <td>18.61</td>\n",
       "      <td>10.38</td>\n",
       "    </tr>\n",
       "    <tr>\n",
       "      <th>1</th>\n",
       "      <td>moerai</td>\n",
       "      <td>95</td>\n",
       "      <td>PF</td>\n",
       "      <td>1569453940</td>\n",
       "      <td>83</td>\n",
       "      <td>-22.43</td>\n",
       "      <td>-151.33</td>\n",
       "      <td>72.66</td>\n",
       "      <td>11.07</td>\n",
       "    </tr>\n",
       "    <tr>\n",
       "      <th>2</th>\n",
       "      <td>mataura</td>\n",
       "      <td>100</td>\n",
       "      <td>NZ</td>\n",
       "      <td>1569453778</td>\n",
       "      <td>88</td>\n",
       "      <td>-46.19</td>\n",
       "      <td>168.86</td>\n",
       "      <td>46.99</td>\n",
       "      <td>18.99</td>\n",
       "    </tr>\n",
       "    <tr>\n",
       "      <th>3</th>\n",
       "      <td>umm kaddadah</td>\n",
       "      <td>77</td>\n",
       "      <td>SD</td>\n",
       "      <td>1569453941</td>\n",
       "      <td>20</td>\n",
       "      <td>13.60</td>\n",
       "      <td>26.69</td>\n",
       "      <td>90.10</td>\n",
       "      <td>8.88</td>\n",
       "    </tr>\n",
       "    <tr>\n",
       "      <th>4</th>\n",
       "      <td>avarua</td>\n",
       "      <td>99</td>\n",
       "      <td>CK</td>\n",
       "      <td>1569453766</td>\n",
       "      <td>78</td>\n",
       "      <td>-21.21</td>\n",
       "      <td>-159.78</td>\n",
       "      <td>77.00</td>\n",
       "      <td>13.87</td>\n",
       "    </tr>\n",
       "  </tbody>\n",
       "</table>\n",
       "</div>"
      ],
      "text/plain": [
       "           City  Cloudiness Country        Date  Humidity    Lat     Lng  \\\n",
       "0       qaanaaq          95      GL  1569453939        76  77.48  -69.36   \n",
       "1        moerai          95      PF  1569453940        83 -22.43 -151.33   \n",
       "2       mataura         100      NZ  1569453778        88 -46.19  168.86   \n",
       "3  umm kaddadah          77      SD  1569453941        20  13.60   26.69   \n",
       "4        avarua          99      CK  1569453766        78 -21.21 -159.78   \n",
       "\n",
       "   Max Temp  Wind Speed  \n",
       "0     18.61       10.38  \n",
       "1     72.66       11.07  \n",
       "2     46.99       18.99  \n",
       "3     90.10        8.88  \n",
       "4     77.00       13.87  "
      ]
     },
     "execution_count": 6,
     "metadata": {},
     "output_type": "execute_result"
    }
   ],
   "source": [
    "# Create a DataFrame based on the lists\n",
    "weather_df = pd.DataFrame({\n",
    "    \"City\": cityweather, \n",
    "    \"Cloudiness\": cloudiness,\n",
    "    \"Country\": country,\n",
    "    \"Date\": date,\n",
    "    \"Humidity\": humidity,\n",
    "    \"Lat\": lat,\n",
    "    \"Lng\": lng,\n",
    "    \"Max Temp\": maxtemp,\n",
    "    \"Wind Speed\": windspeed})\n",
    "\n",
    "weather_df.head()"
   ]
  },
  {
   "cell_type": "code",
   "execution_count": 7,
   "metadata": {},
   "outputs": [
    {
     "data": {
      "text/plain": [
       "City          558\n",
       "Cloudiness    558\n",
       "Country       558\n",
       "Date          558\n",
       "Humidity      558\n",
       "Lat           558\n",
       "Lng           558\n",
       "Max Temp      558\n",
       "Wind Speed    558\n",
       "dtype: int64"
      ]
     },
     "execution_count": 7,
     "metadata": {},
     "output_type": "execute_result"
    }
   ],
   "source": [
    "#Count the number of records\n",
    "weather_df.count()"
   ]
  },
  {
   "cell_type": "code",
   "execution_count": 8,
   "metadata": {},
   "outputs": [],
   "source": [
    "#write file to csv\n",
    "weather_df.to_csv(\"../output_data/cityweather.csv\", index=False, header=True)"
   ]
  },
  {
   "cell_type": "markdown",
   "metadata": {},
   "source": [
    "### Plotting the Data\n",
    "* Use proper labeling of the plots using plot titles (including date of analysis) and axes labels.\n",
    "* Save the plotted figures as .pngs."
   ]
  },
  {
   "cell_type": "markdown",
   "metadata": {},
   "source": [
    "#### Latitude vs. Temperature Plot"
   ]
  },
  {
   "cell_type": "code",
   "execution_count": 9,
   "metadata": {
    "scrolled": true
   },
   "outputs": [
    {
     "data": {
      "image/png": "[encoded data removed]",
      "text/plain": [
       "<Figure size 432x288 with 1 Axes>"
      ]
     },
     "metadata": {
      "needs_background": "light"
     },
     "output_type": "display_data"
    }
   ],
   "source": [
    "#plot latitude vs temperature\n",
    "plt.scatter(weather_df['Lat'], weather_df['Max Temp'], marker=\"o\", facecolors=\"red\", edgecolors=\"black\")\n",
    "plt.grid()\n",
    "plt.xlabel(\"Latitude\")\n",
    "plt.ylabel(\"Max Temperature (F)\")\n",
    "#The date at the time the graph was ran.\n",
    "#todays_date = time.ctime()\n",
    "todays_date = time.strftime(\"(%m/%d/%Y)\")         \n",
    "plt.title(f\"City Latitude vs. Max Temperature {todays_date}\")\n",
    "\n",
    "#save image as png\n",
    "plt.savefig(\"../output_data/MaxTemp.png\")\n",
    "#show plot\n",
    "plt.show()"
   ]
  },
  {
   "cell_type": "markdown",
   "metadata": {},
   "source": [
    "__The graph is representing the max temperature as it relates to the latitude of the city. The latitude is specific to the distance north and south of the equator. A negative latitude is south of the equator while a positive latitude is north. A zero latitude is the equator. As we can see highest max temperatures appear to be distribute around the equator.__"
   ]
  },
  {
   "cell_type": "markdown",
   "metadata": {},
   "source": [
    "#### Latitude vs. Humidity Plot"
   ]
  },
  {
   "cell_type": "code",
   "execution_count": 10,
   "metadata": {},
   "outputs": [
    {
     "data": {
      "image/png": "[encoded data removed]",
      "text/plain": [
       "<Figure size 432x288 with 1 Axes>"
      ]
     },
     "metadata": {
      "needs_background": "light"
     },
     "output_type": "display_data"
    }
   ],
   "source": [
    "#plot latitude vs humidity\n",
    "plt.scatter(weather_df['Lat'], weather_df['Humidity'], marker=\"o\", facecolors=\"red\", edgecolors=\"black\")\n",
    "plt.grid()\n",
    "plt.xlabel(\"Latitude\")\n",
    "plt.ylabel(\"Humidity\")\n",
    "\n",
    "#The date at the time the graph was ran.\n",
    "#todays_date = time.ctime()\n",
    "todays_date = time.strftime(\"(%m/%d/%Y)\")          \n",
    "plt.title(f\"City Latitude vs. Humidity {todays_date}\")\n",
    "\n",
    "#save image as png\n",
    "plt.savefig(\"../output_data/Humidity.png\")\n",
    "#show plot\n",
    "plt.show()"
   ]
  },
  {
   "cell_type": "markdown",
   "metadata": {},
   "source": [
    "__Humidity apears to be the greatest around the equator. However all varying latitudes appear to have high humidity as well. To see if longitude played a bigger factor I created another chart below.__"
   ]
  },
  {
   "cell_type": "code",
   "execution_count": 11,
   "metadata": {},
   "outputs": [
    {
     "data": {
      "image/png": "[encoded data removed]",
      "text/plain": [
       "<Figure size 432x288 with 1 Axes>"
      ]
     },
     "metadata": {
      "needs_background": "light"
     },
     "output_type": "display_data"
    }
   ],
   "source": [
    "#plot longitude vs humidity  I wanted to see if there was a better relationship\n",
    "plt.scatter(weather_df['Lng'], weather_df['Humidity'], marker=\"o\", facecolors=\"blue\", edgecolors=\"black\")\n",
    "plt.grid()\n",
    "plt.xlabel(\"Longitude\")\n",
    "plt.ylabel(\"Humidity\")\n",
    "\n",
    "#The date at the time the graph was ran.\n",
    "#todays_date = time.ctime()\n",
    "todays_date = time.strftime(\"(%m/%d/%Y)\")           \n",
    "plt.title(f\"City Longitude vs. Humidity {todays_date}\")\n",
    "\n",
    "#save plot as png\n",
    "plt.savefig(\"../output_data/TestingLngHumidity.png\")\n",
    "#show plot\n",
    "plt.show()"
   ]
  },
  {
   "cell_type": "markdown",
   "metadata": {},
   "source": [
    "#### Latitude vs. Cloudiness Plot"
   ]
  },
  {
   "cell_type": "code",
   "execution_count": 12,
   "metadata": {},
   "outputs": [
    {
     "data": {
      "image/png": "[encoded data removed]",
      "text/plain": [
       "<Figure size 432x288 with 1 Axes>"
      ]
     },
     "metadata": {
      "needs_background": "light"
     },
     "output_type": "display_data"
    }
   ],
   "source": [
    "#plot latitude vs cloudiness\n",
    "plt.scatter(weather_df['Lat'], weather_df['Cloudiness'], marker=\"o\", facecolors=\"red\", edgecolors=\"black\")\n",
    "plt.grid()\n",
    "plt.xlabel(\"Latitude\")\n",
    "plt.ylabel(\"Cloudiness (%)\")\n",
    "\n",
    "#The date at the time the graph was ran.\n",
    "#todays_date = time.ctime()\n",
    "todays_date = time.strftime(\"(%m/%d/%Y)\")\n",
    "plt.title(f\"City Latitude vs. Cloudiness {todays_date}\")\n",
    "\n",
    "#save plot as png\n",
    "plt.savefig(\"../output_data/Cloudiness.png\")\n",
    "\n",
    "#show plot\n",
    "plt.show()\n"
   ]
  },
  {
   "cell_type": "markdown",
   "metadata": {},
   "source": [
    "__Cloudiness seems to be greatest at the equator and in the northern hemisphere.__"
   ]
  },
  {
   "cell_type": "markdown",
   "metadata": {},
   "source": [
    "#### Latitude vs. Wind Speed Plot"
   ]
  },
  {
   "cell_type": "code",
   "execution_count": 13,
   "metadata": {
    "scrolled": true
   },
   "outputs": [
    {
     "data": {
      "image/png": "[encoded data removed]",
      "text/plain": [
       "<Figure size 432x288 with 1 Axes>"
      ]
     },
     "metadata": {
      "needs_background": "light"
     },
     "output_type": "display_data"
    }
   ],
   "source": [
    "#plot latitude vs wind speed\n",
    "plt.scatter(weather_df['Lat'], weather_df['Wind Speed'], marker=\"o\", facecolors=\"red\", edgecolors=\"black\")\n",
    "plt.grid()\n",
    "plt.xlabel(\"Latitude\")\n",
    "plt.ylabel(\"Wind Speed (mph)\")\n",
    "\n",
    "#The date at the time the graph was ran.\n",
    "#todays_date = time.ctime()\n",
    "todays_date = time.strftime(\"(%m/%d/%Y)\")            \n",
    "plt.title(f\"City Latitude vs. Wind Speed {todays_date}\")\n",
    "\n",
    "#save image as png\n",
    "plt.savefig(\"../output_data/WindSpeed.png\")\n",
    "#show plot\n",
    "plt.show()"
   ]
  },
  {
   "cell_type": "markdown",
   "metadata": {},
   "source": [
    "__Although wind speed appears to be relatively consistent regarless of latitude, there are spikes closer to the poles. This indicates you will experience greater wind speeds the farther away from the equator.__"
   ]
  },
  {
   "cell_type": "markdown",
   "metadata": {},
   "source": [
    "## Linear Regression"
   ]
  },
  {
   "cell_type": "code",
   "execution_count": 14,
   "metadata": {},
   "outputs": [],
   "source": [
    "# OPTIONAL: Create a function to create Linear Regression plots\n"
   ]
  },
  {
   "cell_type": "code",
   "execution_count": 15,
   "metadata": {},
   "outputs": [
    {
     "data": {
      "text/html": [
       "<div>\n",
       "<style scoped>\n",
       "    .dataframe tbody tr th:only-of-type {\n",
       "        vertical-align: middle;\n",
       "    }\n",
       "\n",
       "    .dataframe tbody tr th {\n",
       "        vertical-align: top;\n",
       "    }\n",
       "\n",
       "    .dataframe thead th {\n",
       "        text-align: right;\n",
       "    }\n",
       "</style>\n",
       "<table border=\"1\" class=\"dataframe\">\n",
       "  <thead>\n",
       "    <tr style=\"text-align: right;\">\n",
       "      <th></th>\n",
       "      <th>City</th>\n",
       "      <th>Cloudiness</th>\n",
       "      <th>Country</th>\n",
       "      <th>Date</th>\n",
       "      <th>Humidity</th>\n",
       "      <th>Lat</th>\n",
       "      <th>Lng</th>\n",
       "      <th>Max Temp</th>\n",
       "      <th>Wind Speed</th>\n",
       "    </tr>\n",
       "  </thead>\n",
       "  <tbody>\n",
       "    <tr>\n",
       "      <th>0</th>\n",
       "      <td>qaanaaq</td>\n",
       "      <td>95</td>\n",
       "      <td>GL</td>\n",
       "      <td>1569453939</td>\n",
       "      <td>76</td>\n",
       "      <td>77.48</td>\n",
       "      <td>-69.36</td>\n",
       "      <td>18.61</td>\n",
       "      <td>10.38</td>\n",
       "    </tr>\n",
       "    <tr>\n",
       "      <th>3</th>\n",
       "      <td>umm kaddadah</td>\n",
       "      <td>77</td>\n",
       "      <td>SD</td>\n",
       "      <td>1569453941</td>\n",
       "      <td>20</td>\n",
       "      <td>13.60</td>\n",
       "      <td>26.69</td>\n",
       "      <td>90.10</td>\n",
       "      <td>8.88</td>\n",
       "    </tr>\n",
       "    <tr>\n",
       "      <th>7</th>\n",
       "      <td>kapaa</td>\n",
       "      <td>90</td>\n",
       "      <td>US</td>\n",
       "      <td>1569453942</td>\n",
       "      <td>88</td>\n",
       "      <td>22.08</td>\n",
       "      <td>-159.32</td>\n",
       "      <td>82.40</td>\n",
       "      <td>3.36</td>\n",
       "    </tr>\n",
       "    <tr>\n",
       "      <th>10</th>\n",
       "      <td>butaritari</td>\n",
       "      <td>9</td>\n",
       "      <td>KI</td>\n",
       "      <td>1569453943</td>\n",
       "      <td>76</td>\n",
       "      <td>3.07</td>\n",
       "      <td>172.79</td>\n",
       "      <td>83.62</td>\n",
       "      <td>17.83</td>\n",
       "    </tr>\n",
       "    <tr>\n",
       "      <th>11</th>\n",
       "      <td>sibolga</td>\n",
       "      <td>90</td>\n",
       "      <td>ID</td>\n",
       "      <td>1569453943</td>\n",
       "      <td>83</td>\n",
       "      <td>1.74</td>\n",
       "      <td>98.78</td>\n",
       "      <td>79.83</td>\n",
       "      <td>6.40</td>\n",
       "    </tr>\n",
       "  </tbody>\n",
       "</table>\n",
       "</div>"
      ],
      "text/plain": [
       "            City  Cloudiness Country        Date  Humidity    Lat     Lng  \\\n",
       "0        qaanaaq          95      GL  1569453939        76  77.48  -69.36   \n",
       "3   umm kaddadah          77      SD  1569453941        20  13.60   26.69   \n",
       "7          kapaa          90      US  1569453942        88  22.08 -159.32   \n",
       "10    butaritari           9      KI  1569453943        76   3.07  172.79   \n",
       "11       sibolga          90      ID  1569453943        83   1.74   98.78   \n",
       "\n",
       "    Max Temp  Wind Speed  \n",
       "0      18.61       10.38  \n",
       "3      90.10        8.88  \n",
       "7      82.40        3.36  \n",
       "10     83.62       17.83  \n",
       "11     79.83        6.40  "
      ]
     },
     "execution_count": 15,
     "metadata": {},
     "output_type": "execute_result"
    }
   ],
   "source": [
    "# Create Northern Hemisphere DataFrames\n",
    "Nweather_df = pd.DataFrame({\n",
    "    \"City\": cityweather, \n",
    "    \"Cloudiness\": cloudiness,\n",
    "    \"Country\": country,\n",
    "    \"Date\": date,\n",
    "    \"Humidity\": humidity,\n",
    "    \"Lat\": lat,\n",
    "    \"Lng\": lng,\n",
    "    \"Max Temp\": maxtemp,\n",
    "    \"Wind Speed\": windspeed})\n",
    "\n",
    "#set up to drop any negative latitudes\n",
    "Nweather_df['Lat'] = Nweather_df[Nweather_df['Lat'] > 0]['Lat']\n",
    "NH_df = Nweather_df.dropna(how ='any', subset=['Lat'])\n",
    "NH_df.head()\n"
   ]
  },
  {
   "cell_type": "code",
   "execution_count": 16,
   "metadata": {},
   "outputs": [
    {
     "data": {
      "text/plain": [
       "City          389\n",
       "Cloudiness    389\n",
       "Country       389\n",
       "Date          389\n",
       "Humidity      389\n",
       "Lat           389\n",
       "Lng           389\n",
       "Max Temp      389\n",
       "Wind Speed    389\n",
       "dtype: int64"
      ]
     },
     "execution_count": 16,
     "metadata": {},
     "output_type": "execute_result"
    }
   ],
   "source": [
    "NH_df.count()"
   ]
  },
  {
   "cell_type": "code",
   "execution_count": 17,
   "metadata": {},
   "outputs": [
    {
     "data": {
      "text/html": [
       "<div>\n",
       "<style scoped>\n",
       "    .dataframe tbody tr th:only-of-type {\n",
       "        vertical-align: middle;\n",
       "    }\n",
       "\n",
       "    .dataframe tbody tr th {\n",
       "        vertical-align: top;\n",
       "    }\n",
       "\n",
       "    .dataframe thead th {\n",
       "        text-align: right;\n",
       "    }\n",
       "</style>\n",
       "<table border=\"1\" class=\"dataframe\">\n",
       "  <thead>\n",
       "    <tr style=\"text-align: right;\">\n",
       "      <th></th>\n",
       "      <th>City</th>\n",
       "      <th>Cloudiness</th>\n",
       "      <th>Country</th>\n",
       "      <th>Date</th>\n",
       "      <th>Humidity</th>\n",
       "      <th>Lat</th>\n",
       "      <th>Lng</th>\n",
       "      <th>Max Temp</th>\n",
       "      <th>Wind Speed</th>\n",
       "    </tr>\n",
       "  </thead>\n",
       "  <tbody>\n",
       "    <tr>\n",
       "      <th>1</th>\n",
       "      <td>moerai</td>\n",
       "      <td>95</td>\n",
       "      <td>PF</td>\n",
       "      <td>1569453940</td>\n",
       "      <td>83</td>\n",
       "      <td>-22.43</td>\n",
       "      <td>-151.33</td>\n",
       "      <td>72.66</td>\n",
       "      <td>11.07</td>\n",
       "    </tr>\n",
       "    <tr>\n",
       "      <th>2</th>\n",
       "      <td>mataura</td>\n",
       "      <td>100</td>\n",
       "      <td>NZ</td>\n",
       "      <td>1569453778</td>\n",
       "      <td>88</td>\n",
       "      <td>-46.19</td>\n",
       "      <td>168.86</td>\n",
       "      <td>46.99</td>\n",
       "      <td>18.99</td>\n",
       "    </tr>\n",
       "    <tr>\n",
       "      <th>4</th>\n",
       "      <td>avarua</td>\n",
       "      <td>99</td>\n",
       "      <td>CK</td>\n",
       "      <td>1569453766</td>\n",
       "      <td>78</td>\n",
       "      <td>-21.21</td>\n",
       "      <td>-159.78</td>\n",
       "      <td>77.00</td>\n",
       "      <td>13.87</td>\n",
       "    </tr>\n",
       "    <tr>\n",
       "      <th>5</th>\n",
       "      <td>jamestown</td>\n",
       "      <td>0</td>\n",
       "      <td>AU</td>\n",
       "      <td>1569453662</td>\n",
       "      <td>33</td>\n",
       "      <td>-33.21</td>\n",
       "      <td>138.60</td>\n",
       "      <td>67.05</td>\n",
       "      <td>7.78</td>\n",
       "    </tr>\n",
       "    <tr>\n",
       "      <th>6</th>\n",
       "      <td>punta arenas</td>\n",
       "      <td>0</td>\n",
       "      <td>CL</td>\n",
       "      <td>1569453942</td>\n",
       "      <td>60</td>\n",
       "      <td>-53.16</td>\n",
       "      <td>-70.91</td>\n",
       "      <td>42.80</td>\n",
       "      <td>21.92</td>\n",
       "    </tr>\n",
       "  </tbody>\n",
       "</table>\n",
       "</div>"
      ],
      "text/plain": [
       "           City  Cloudiness Country        Date  Humidity    Lat     Lng  \\\n",
       "1        moerai          95      PF  1569453940        83 -22.43 -151.33   \n",
       "2       mataura         100      NZ  1569453778        88 -46.19  168.86   \n",
       "4        avarua          99      CK  1569453766        78 -21.21 -159.78   \n",
       "5     jamestown           0      AU  1569453662        33 -33.21  138.60   \n",
       "6  punta arenas           0      CL  1569453942        60 -53.16  -70.91   \n",
       "\n",
       "   Max Temp  Wind Speed  \n",
       "1     72.66       11.07  \n",
       "2     46.99       18.99  \n",
       "4     77.00       13.87  \n",
       "5     67.05        7.78  \n",
       "6     42.80       21.92  "
      ]
     },
     "execution_count": 17,
     "metadata": {},
     "output_type": "execute_result"
    }
   ],
   "source": [
    "# Create Southern Hemisphere DataFrames\n",
    "Sweather_df = pd.DataFrame({\n",
    "    \"City\": cityweather, \n",
    "    \"Cloudiness\": cloudiness,\n",
    "    \"Country\": country,\n",
    "    \"Date\": date,\n",
    "    \"Humidity\": humidity,\n",
    "    \"Lat\": lat,\n",
    "    \"Lng\": lng,\n",
    "    \"Max Temp\": maxtemp,\n",
    "    \"Wind Speed\": windspeed})\n",
    "\n",
    "#set up to drop any positive latitudes\n",
    "Sweather_df['Lat'] = Sweather_df[Sweather_df['Lat'] < 0]['Lat']\n",
    "SH_df = Sweather_df.dropna(how ='any', subset=['Lat'])\n",
    "SH_df.head()"
   ]
  },
  {
   "cell_type": "code",
   "execution_count": 18,
   "metadata": {},
   "outputs": [
    {
     "data": {
      "text/plain": [
       "City          169\n",
       "Cloudiness    169\n",
       "Country       169\n",
       "Date          169\n",
       "Humidity      169\n",
       "Lat           169\n",
       "Lng           169\n",
       "Max Temp      169\n",
       "Wind Speed    169\n",
       "dtype: int64"
      ]
     },
     "execution_count": 18,
     "metadata": {},
     "output_type": "execute_result"
    }
   ],
   "source": [
    "SH_df.count()"
   ]
  },
  {
   "cell_type": "markdown",
   "metadata": {},
   "source": [
    "####  Northern Hemisphere - Max Temp vs. Latitude Linear Regression"
   ]
  },
  {
   "cell_type": "code",
   "execution_count": 19,
   "metadata": {},
   "outputs": [
    {
     "name": "stdout",
     "output_type": "stream",
     "text": [
      "The r-squared is: -0.8156165319022018\n"
     ]
    },
    {
     "data": {
      "image/png": "[encoded data removed]",
      "text/plain": [
       "<Figure size 432x288 with 1 Axes>"
      ]
     },
     "metadata": {
      "needs_background": "light"
     },
     "output_type": "display_data"
    }
   ],
   "source": [
    "# Print out the r-squared value along with the plot.\n",
    "x_values = NH_df['Lat']\n",
    "y_values = NH_df['Max Temp']\n",
    "(slope, intercept, rvalue, pvalue, stderr) = linregress(x_values, y_values)\n",
    "regress_values = x_values * slope + intercept\n",
    "line_eq = \"y = \" + str(round(slope,2)) + \"x + \" + str(round(intercept,2))\n",
    "plt.scatter(x_values,y_values)\n",
    "plt.plot(x_values,regress_values,\"r-\")\n",
    "plt.annotate(line_eq,xy=(0,30),fontsize=15,color=\"red\")\n",
    "plt.xlabel(\"Latitude\")\n",
    "plt.ylabel(\"Max Temperature (F)\")\n",
    "plt.title(\"Northern Hemisphere - Max temp Vs. Latitude\")\n",
    "print(f\"The r-squared is: {rvalue}\")\n",
    "plt.show()"
   ]
  },
  {
   "cell_type": "markdown",
   "metadata": {},
   "source": [
    "####  Southern Hemisphere - Max Temp vs. Latitude Linear Regression"
   ]
  },
  {
   "cell_type": "code",
   "execution_count": 20,
   "metadata": {},
   "outputs": [
    {
     "name": "stdout",
     "output_type": "stream",
     "text": [
      "The r-squared is: 0.7156907060812933\n"
     ]
    },
    {
     "data": {
      "image/png": "[encoded data removed]",
      "text/plain": [
       "<Figure size 432x288 with 1 Axes>"
      ]
     },
     "metadata": {
      "needs_background": "light"
     },
     "output_type": "display_data"
    }
   ],
   "source": [
    "# Print out the r-squared value along with the plot.\n",
    "x_values = SH_df['Lat']\n",
    "y_values = SH_df['Max Temp']\n",
    "(slope, intercept, rvalue, pvalue, stderr) = linregress(x_values, y_values)\n",
    "regress_values = x_values * slope + intercept\n",
    "line_eq = \"y = \" + str(round(slope,2)) + \"x + \" + str(round(intercept,2))\n",
    "plt.scatter(x_values,y_values)\n",
    "plt.plot(x_values,regress_values,\"r-\")\n",
    "plt.annotate(line_eq,xy=(-30,40),fontsize=15,color=\"red\")\n",
    "plt.xlabel(\"Latitude\")\n",
    "plt.ylabel(\"Max Temperature (F)\")\n",
    "print(f\"The r-squared is: {rvalue}\")\n",
    "plt.show()"
   ]
  },
  {
   "cell_type": "markdown",
   "metadata": {},
   "source": [
    "####  Northern Hemisphere - Humidity (%) vs. Latitude Linear Regression"
   ]
  },
  {
   "cell_type": "code",
   "execution_count": 21,
   "metadata": {},
   "outputs": [
    {
     "name": "stdout",
     "output_type": "stream",
     "text": [
      "The r-squared is: 0.14346814618387826\n"
     ]
    },
    {
     "data": {
      "image/png": "[encoded data removed]",
      "text/plain": [
       "<Figure size 432x288 with 1 Axes>"
      ]
     },
     "metadata": {
      "needs_background": "light"
     },
     "output_type": "display_data"
    }
   ],
   "source": [
    "# Print out the r-squared value along with the plot.\n",
    "x_values = NH_df['Lat']\n",
    "y_values = NH_df['Humidity']\n",
    "(slope, intercept, rvalue, pvalue, stderr) = linregress(x_values, y_values)\n",
    "regress_values = x_values * slope + intercept\n",
    "line_eq = \"y = \" + str(round(slope,2)) + \"x + \" + str(round(intercept,2))\n",
    "plt.scatter(x_values,y_values)\n",
    "plt.plot(x_values,regress_values,\"r-\")\n",
    "plt.annotate(line_eq,xy=(45,30),fontsize=15,color=\"red\")\n",
    "plt.xlabel(\"Latitude\")\n",
    "plt.ylabel(\"Humidity\")\n",
    "plt.title(\"Northern Hemisphere - Humidity Vs. Latitude\")\n",
    "print(f\"The r-squared is: {rvalue}\")\n",
    "plt.show()"
   ]
  },
  {
   "cell_type": "markdown",
   "metadata": {},
   "source": [
    "####  Southern Hemisphere - Humidity (%) vs. Latitude Linear Regression"
   ]
  },
  {
   "cell_type": "code",
   "execution_count": 23,
   "metadata": {},
   "outputs": [
    {
     "name": "stdout",
     "output_type": "stream",
     "text": [
      "The r-squared is: 0.2039549482849359\n"
     ]
    },
    {
     "data": {
      "image/png": "[encoded data removed]",
      "text/plain": [
       "<Figure size 432x288 with 1 Axes>"
      ]
     },
     "metadata": {
      "needs_background": "light"
     },
     "output_type": "display_data"
    }
   ],
   "source": [
    "# Print out the r-squared value along with the plot.\n",
    "x_values = SH_df['Lat']\n",
    "y_values = SH_df['Humidity']\n",
    "(slope, intercept, rvalue, pvalue, stderr) = linregress(x_values, y_values)\n",
    "regress_values = x_values * slope + intercept\n",
    "line_eq = \"y = \" + str(round(slope,2)) + \"x + \" + str(round(intercept,2))\n",
    "plt.scatter(x_values,y_values)\n",
    "plt.plot(x_values,regress_values,\"r-\")\n",
    "plt.annotate(line_eq,xy=(-50,20),fontsize=15,color=\"red\")\n",
    "plt.xlabel(\"Latitude\")\n",
    "plt.ylabel(\"Humidity\")\n",
    "plt.title(\"Southern Hemisphere - Humidity Vs. Latitude\")\n",
    "print(f\"The r-squared is: {rvalue}\")\n",
    "plt.show()"
   ]
  },
  {
   "cell_type": "markdown",
   "metadata": {},
   "source": [
    "####  Northern Hemisphere - Cloudiness (%) vs. Latitude Linear Regression"
   ]
  },
  {
   "cell_type": "code",
   "execution_count": 24,
   "metadata": {},
   "outputs": [
    {
     "name": "stdout",
     "output_type": "stream",
     "text": [
      "The r-squared is: 0.1537711916321354\n"
     ]
    },
    {
     "data": {
      "image/png": "[encoded data removed]",
      "text/plain": [
       "<Figure size 432x288 with 1 Axes>"
      ]
     },
     "metadata": {
      "needs_background": "light"
     },
     "output_type": "display_data"
    }
   ],
   "source": [
    "# Print out the r-squared value along with the plot.\n",
    "x_values = NH_df['Lat']\n",
    "y_values = NH_df['Cloudiness']\n",
    "(slope, intercept, rvalue, pvalue, stderr) = linregress(x_values, y_values)\n",
    "regress_values = x_values * slope + intercept\n",
    "line_eq = \"y = \" + str(round(slope,2)) + \"x + \" + str(round(intercept,2))\n",
    "plt.scatter(x_values,y_values)\n",
    "plt.plot(x_values,regress_values,\"r-\")\n",
    "plt.annotate(line_eq,xy=(45,30),fontsize=15,color=\"red\")\n",
    "plt.xlabel(\"Latitude\")\n",
    "plt.ylabel(\"Cloudiness (%)\")\n",
    "plt.title(\"Northern Hemisphere - Cloudiness(%) Vs. Latitude\")\n",
    "print(f\"The r-squared is: {rvalue}\")\n",
    "plt.show()"
   ]
  },
  {
   "cell_type": "markdown",
   "metadata": {},
   "source": [
    "####  Southern Hemisphere - Cloudiness (%) vs. Latitude Linear Regression"
   ]
  },
  {
   "cell_type": "code",
   "execution_count": 25,
   "metadata": {},
   "outputs": [
    {
     "name": "stdout",
     "output_type": "stream",
     "text": [
      "The r-squared is: 0.13619397664200877\n"
     ]
    },
    {
     "data": {
      "image/png": "[encoded data removed]",
      "text/plain": [
       "<Figure size 432x288 with 1 Axes>"
      ]
     },
     "metadata": {
      "needs_background": "light"
     },
     "output_type": "display_data"
    }
   ],
   "source": [
    "# Print out the r-squared value along with the plot.\n",
    "x_values = SH_df['Lat']\n",
    "y_values = SH_df['Cloudiness']\n",
    "(slope, intercept, rvalue, pvalue, stderr) = linregress(x_values, y_values)\n",
    "regress_values = x_values * slope + intercept\n",
    "line_eq = \"y = \" + str(round(slope,2)) + \"x + \" + str(round(intercept,2))\n",
    "plt.scatter(x_values,y_values)\n",
    "plt.plot(x_values,regress_values,\"r-\")\n",
    "plt.annotate(line_eq,xy=(-50,50),fontsize=15,color=\"red\")\n",
    "plt.xlabel(\"Latitude\")\n",
    "plt.ylabel(\"Cloudiness (%)\")\n",
    "plt.title(\"southern Hemisphere - Cloudiness(%) Vs. Latitude\")\n",
    "print(f\"The r-squared is: {rvalue}\")\n",
    "plt.show()"
   ]
  },
  {
   "cell_type": "markdown",
   "metadata": {},
   "source": [
    "####  Northern Hemisphere - Wind Speed (mph) vs. Latitude Linear Regression"
   ]
  },
  {
   "cell_type": "code",
   "execution_count": 26,
   "metadata": {},
   "outputs": [
    {
     "name": "stdout",
     "output_type": "stream",
     "text": [
      "The r-squared is: 0.1647896228739802\n"
     ]
    },
    {
     "data": {
      "image/png": "[encoded data removed]",
      "text/plain": [
       "<Figure size 432x288 with 1 Axes>"
      ]
     },
     "metadata": {
      "needs_background": "light"
     },
     "output_type": "display_data"
    }
   ],
   "source": [
    "# Print out the r-squared value along with the plot.\n",
    "x_values = NH_df['Lat']\n",
    "y_values = NH_df['Wind Speed']\n",
    "(slope, intercept, rvalue, pvalue, stderr) = linregress(x_values, y_values)\n",
    "regress_values = x_values * slope + intercept\n",
    "line_eq = \"y = \" + str(round(slope,2)) + \"x + \" + str(round(intercept,2))\n",
    "plt.scatter(x_values,y_values)\n",
    "plt.plot(x_values,regress_values,\"r-\")\n",
    "plt.annotate(line_eq,xy=(0,30),fontsize=15,color=\"red\")\n",
    "plt.xlabel(\"Latitude\")\n",
    "plt.ylabel(\"Wind Speed\")\n",
    "plt.title(\"Northern Hemisphere - Wind Speed (mph) Vs. Latitude\")\n",
    "print(f\"The r-squared is: {rvalue}\")\n",
    "plt.show()"
   ]
  },
  {
   "cell_type": "markdown",
   "metadata": {},
   "source": [
    "####  Southern Hemisphere - Wind Speed (mph) vs. Latitude Linear Regression"
   ]
  },
  {
   "cell_type": "code",
   "execution_count": 27,
   "metadata": {},
   "outputs": [
    {
     "name": "stdout",
     "output_type": "stream",
     "text": [
      "The r-squared is: -0.19644392075673964\n"
     ]
    },
    {
     "data": {
      "image/png": "[encoded data removed]",
      "text/plain": [
       "<Figure size 432x288 with 1 Axes>"
      ]
     },
     "metadata": {
      "needs_background": "light"
     },
     "output_type": "display_data"
    }
   ],
   "source": [
    "# Print out the r-squared value along with the plot.\n",
    "x_values = SH_df['Lat']\n",
    "y_values = SH_df['Wind Speed']\n",
    "(slope, intercept, rvalue, pvalue, stderr) = linregress(x_values, y_values)\n",
    "regress_values = x_values * slope + intercept\n",
    "line_eq = \"y = \" + str(round(slope,2)) + \"x + \" + str(round(intercept,2))\n",
    "plt.scatter(x_values,y_values)\n",
    "plt.plot(x_values,regress_values,\"r-\")\n",
    "plt.annotate(line_eq,xy=(-50,22),fontsize=15,color=\"red\")\n",
    "plt.xlabel(\"Latitude\")\n",
    "plt.ylabel(\"Wind Speed\")\n",
    "plt.title(\"Southern Hemisphere - Wind Speed (mph) Vs. Latitude\")\n",
    "print(f\"The r-squared is: {rvalue}\")\n",
    "plt.show()"
   ]
  },
  {
   "cell_type": "code",
   "execution_count": null,
   "metadata": {},
   "outputs": [],
   "source": []
  }
 ],
 "metadata": {
  "anaconda-cloud": {},
  "kernel_info": {
   "name": "python3"
  },
  "kernelspec": {
   "display_name": "Python 3",
   "language": "python",
   "name": "python3"
  },
  "language_info": {
   "codemirror_mode": {
    "name": "ipython",
    "version": 3
   },
   "file_extension": ".py",
   "mimetype": "text/x-python",
   "name": "python",
   "nbconvert_exporter": "python",
   "pygments_lexer": "ipython3",
   "version": "3.7.3"
  },
  "latex_envs": {
   "LaTeX_envs_menu_present": true,
   "autoclose": false,
   "autocomplete": true,
   "bibliofile": "biblio.bib",
   "cite_by": "apalike",
   "current_citInitial": 1,
   "eqLabelWithNumbers": true,
   "eqNumInitial": 1,
   "hotkeys": {
    "equation": "Ctrl-E",
    "itemize": "Ctrl-I"
   },
   "labels_anchors": false,
   "latex_user_defs": false,
   "report_style_numbering": false,
   "user_envs_cfg": false
  },
  "nteract": {
   "version": "0.12.3"
  }
 },
 "nbformat": 4,
 "nbformat_minor": 2
}
